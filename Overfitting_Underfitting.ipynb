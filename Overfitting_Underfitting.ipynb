{
  "nbformat": 4,
  "nbformat_minor": 0,
  "metadata": {
    "colab": {
      "name": "Overfitting_Underfitting.ipynb",
      "provenance": [],
      "collapsed_sections": [],
      "authorship_tag": "ABX9TyNHSWrlfCt2aq3gHdGEWw6p",
      "include_colab_link": true
    },
    "kernelspec": {
      "name": "python3",
      "display_name": "Python 3"
    },
    "language_info": {
      "name": "python"
    },
    "accelerator": "GPU"
  },
  "cells": [
    {
      "cell_type": "markdown",
      "metadata": {
        "id": "view-in-github",
        "colab_type": "text"
      },
      "source": [
        "<a href=\"https://colab.research.google.com/github/ababkoko/Tensorflow_prac/blob/master/Overfitting_Underfitting.ipynb\" target=\"_parent\"><img src=\"https://colab.research.google.com/assets/colab-badge.svg\" alt=\"Open In Colab\"/></a>"
      ]
    },
    {
      "cell_type": "markdown",
      "metadata": {
        "id": "RqoomSSehOAy"
      },
      "source": [
        "1. 과대적합(Overfitting) - 검증 세트에서 모델 성능이 최고점에 도달한 다음 감소하기 시작 할 때\n",
        "2. 과소적합(Underfitting) - 테스트 세트의 성능이 향상될 여지가 있을 때"
      ]
    },
    {
      "cell_type": "code",
      "metadata": {
        "colab": {
          "base_uri": "https://localhost:8080/"
        },
        "id": "_6vLLC7mhBew",
        "outputId": "5eb3ce97-1bf4-4fc1-d914-22fcd01d6191"
      },
      "source": [
        "import tensorflow as tf\n",
        "from tensorflow import keras\n",
        "\n",
        "import numpy as np\n",
        "import matplotlib.pyplot as plt\n",
        "\n",
        "print(tf.__version__)"
      ],
      "execution_count": 1,
      "outputs": [
        {
          "output_type": "stream",
          "name": "stdout",
          "text": [
            "2.6.0\n"
          ]
        }
      ]
    },
    {
      "cell_type": "code",
      "metadata": {
        "id": "9oNt1590icFl"
      },
      "source": [
        "NUM_WORDS = 1000\n",
        "\n",
        "(train_data, train_labels), (test_data, test_labels) = keras.datasets.imdb.load_data(num_words=NUM_WORDS)\n",
        "\n",
        "def multi_hot_sequences(sequences, dimension):\n",
        "  # 0으로 채워진 (len(sequences), dimension) 크기의 행렬을 만듭니다.\n",
        "  results = np.zeros((len(sequences), dimension))\n",
        "  for i, word_indices in enumerate(sequences):\n",
        "    results[i, word_indices] = 1.0   # results[i]의 특정 인덱스만 1로 설정\n",
        "  return results\n",
        "\n",
        "train_data = multi_hot_sequences(train_data, dimension=NUM_WORDS)\n",
        "test_data = multi_hot_sequences(test_data, dimension=NUM_WORDS)"
      ],
      "execution_count": 3,
      "outputs": []
    },
    {
      "cell_type": "code",
      "metadata": {
        "colab": {
          "base_uri": "https://localhost:8080/",
          "height": 283
        },
        "id": "y1kQ5nxgjxcf",
        "outputId": "4e6c4543-7370-41b1-82b4-60e9cfc0a3bd"
      },
      "source": [
        "plt.plot(train_data[2])   # 단어 index는 빈도 순으로 정렬되어 있음"
      ],
      "execution_count": 5,
      "outputs": [
        {
          "output_type": "execute_result",
          "data": {
            "text/plain": [
              "[<matplotlib.lines.Line2D at 0x7faee02ad190>]"
            ]
          },
          "metadata": {},
          "execution_count": 5
        },
        {
          "output_type": "display_data",
          "data": {
            "image/png": "[encoded data removed]",
            "text/plain": [
              "<Figure size 432x288 with 1 Axes>"
            ]
          },
          "metadata": {
            "needs_background": "light"
          }
        }
      ]
    },
    {
      "cell_type": "code",
      "metadata": {
        "colab": {
          "base_uri": "https://localhost:8080/"
        },
        "id": "QEdwDBCYkiS1",
        "outputId": "bca6e1bf-73fb-4d0a-f689-2ab42a283b26"
      },
      "source": [
        "baseline_model = keras.Sequential([\n",
        "    # '.summary' 메서드 때문에 'input_shape'가 필요함                               \n",
        "    keras.layers.Dense(16, activation='relu', input_shape=(NUM_WORDS, )),\n",
        "    keras.layers.Dense(16, activation='relu'),\n",
        "    keras.layers.Dense(1, activation='sigmoid')\n",
        "])\n",
        "\n",
        "baseline_model.compile(optimizer='adam',\n",
        "                       loss='binary_crossentropy',\n",
        "                       metrics=['accuracy', 'binary_crossentropy'])\n",
        "\n",
        "baseline_model.summary()"
      ],
      "execution_count": 6,
      "outputs": [
        {
          "output_type": "stream",
          "name": "stdout",
          "text": [
            "Model: \"sequential\"\n",
            "_________________________________________________________________\n",
            "Layer (type)                 Output Shape              Param #   \n",
            "=================================================================\n",
            "dense (Dense)                (None, 16)                16016     \n",
            "_________________________________________________________________\n",
            "dense_1 (Dense)              (None, 16)                272       \n",
            "_________________________________________________________________\n",
            "dense_2 (Dense)              (None, 1)                 17        \n",
            "=================================================================\n",
            "Total params: 16,305\n",
            "Trainable params: 16,305\n",
            "Non-trainable params: 0\n",
            "_________________________________________________________________\n"
          ]
        }
      ]
    },
    {
      "cell_type": "code",
      "metadata": {
        "colab": {
          "base_uri": "https://localhost:8080/"
        },
        "id": "tqPoKPNVmFZt",
        "outputId": "9987c49a-9e28-4e75-d5ff-1555c679620b"
      },
      "source": [
        "baseline_history = baseline_model.fit(train_data,\n",
        "                                      train_labels,\n",
        "                                      epochs=20,\n",
        "                                      batch_size=512,\n",
        "                                      validation_data=(test_data, test_labels),\n",
        "                                      verbose=2)"
      ],
      "execution_count": 8,
      "outputs": [
        {
          "output_type": "stream",
          "name": "stdout",
          "text": [
            "Epoch 1/20\n",
            "49/49 - 4s - loss: 0.5573 - accuracy: 0.7324 - binary_crossentropy: 0.5573 - val_loss: 0.4192 - val_accuracy: 0.8233 - val_binary_crossentropy: 0.4192\n",
            "Epoch 2/20\n",
            "49/49 - 0s - loss: 0.3599 - accuracy: 0.8492 - binary_crossentropy: 0.3599 - val_loss: 0.3403 - val_accuracy: 0.8564 - val_binary_crossentropy: 0.3403\n",
            "Epoch 3/20\n",
            "49/49 - 0s - loss: 0.3196 - accuracy: 0.8686 - binary_crossentropy: 0.3196 - val_loss: 0.3318 - val_accuracy: 0.8588 - val_binary_crossentropy: 0.3318\n",
            "Epoch 4/20\n",
            "49/49 - 0s - loss: 0.3068 - accuracy: 0.8731 - binary_crossentropy: 0.3068 - val_loss: 0.3285 - val_accuracy: 0.8598 - val_binary_crossentropy: 0.3285\n",
            "Epoch 5/20\n",
            "49/49 - 0s - loss: 0.3037 - accuracy: 0.8738 - binary_crossentropy: 0.3037 - val_loss: 0.3387 - val_accuracy: 0.8560 - val_binary_crossentropy: 0.3387\n",
            "Epoch 6/20\n",
            "49/49 - 0s - loss: 0.3009 - accuracy: 0.8760 - binary_crossentropy: 0.3009 - val_loss: 0.3386 - val_accuracy: 0.8574 - val_binary_crossentropy: 0.3386\n",
            "Epoch 7/20\n",
            "49/49 - 0s - loss: 0.2970 - accuracy: 0.8764 - binary_crossentropy: 0.2970 - val_loss: 0.3296 - val_accuracy: 0.8588 - val_binary_crossentropy: 0.3296\n",
            "Epoch 8/20\n",
            "49/49 - 0s - loss: 0.2934 - accuracy: 0.8785 - binary_crossentropy: 0.2934 - val_loss: 0.3305 - val_accuracy: 0.8596 - val_binary_crossentropy: 0.3305\n",
            "Epoch 9/20\n",
            "49/49 - 0s - loss: 0.2900 - accuracy: 0.8812 - binary_crossentropy: 0.2900 - val_loss: 0.3296 - val_accuracy: 0.8590 - val_binary_crossentropy: 0.3296\n",
            "Epoch 10/20\n",
            "49/49 - 0s - loss: 0.2855 - accuracy: 0.8843 - binary_crossentropy: 0.2855 - val_loss: 0.3316 - val_accuracy: 0.8593 - val_binary_crossentropy: 0.3316\n",
            "Epoch 11/20\n",
            "49/49 - 0s - loss: 0.2808 - accuracy: 0.8840 - binary_crossentropy: 0.2808 - val_loss: 0.3315 - val_accuracy: 0.8585 - val_binary_crossentropy: 0.3315\n",
            "Epoch 12/20\n",
            "49/49 - 0s - loss: 0.2787 - accuracy: 0.8844 - binary_crossentropy: 0.2787 - val_loss: 0.3349 - val_accuracy: 0.8576 - val_binary_crossentropy: 0.3349\n",
            "Epoch 13/20\n",
            "49/49 - 0s - loss: 0.2685 - accuracy: 0.8908 - binary_crossentropy: 0.2685 - val_loss: 0.3370 - val_accuracy: 0.8569 - val_binary_crossentropy: 0.3370\n",
            "Epoch 14/20\n",
            "49/49 - 0s - loss: 0.2607 - accuracy: 0.8944 - binary_crossentropy: 0.2607 - val_loss: 0.3395 - val_accuracy: 0.8566 - val_binary_crossentropy: 0.3395\n",
            "Epoch 15/20\n",
            "49/49 - 0s - loss: 0.2536 - accuracy: 0.8984 - binary_crossentropy: 0.2536 - val_loss: 0.3449 - val_accuracy: 0.8535 - val_binary_crossentropy: 0.3449\n",
            "Epoch 16/20\n",
            "49/49 - 0s - loss: 0.2471 - accuracy: 0.9004 - binary_crossentropy: 0.2471 - val_loss: 0.3468 - val_accuracy: 0.8528 - val_binary_crossentropy: 0.3468\n",
            "Epoch 17/20\n",
            "49/49 - 0s - loss: 0.2404 - accuracy: 0.9042 - binary_crossentropy: 0.2404 - val_loss: 0.3562 - val_accuracy: 0.8506 - val_binary_crossentropy: 0.3562\n",
            "Epoch 18/20\n",
            "49/49 - 0s - loss: 0.2332 - accuracy: 0.9052 - binary_crossentropy: 0.2332 - val_loss: 0.3597 - val_accuracy: 0.8512 - val_binary_crossentropy: 0.3597\n",
            "Epoch 19/20\n",
            "49/49 - 0s - loss: 0.2274 - accuracy: 0.9083 - binary_crossentropy: 0.2274 - val_loss: 0.3690 - val_accuracy: 0.8474 - val_binary_crossentropy: 0.3690\n",
            "Epoch 20/20\n",
            "49/49 - 0s - loss: 0.2221 - accuracy: 0.9100 - binary_crossentropy: 0.2221 - val_loss: 0.3709 - val_accuracy: 0.8481 - val_binary_crossentropy: 0.3709\n"
          ]
        }
      ]
    },
    {
      "cell_type": "code",
      "metadata": {
        "colab": {
          "base_uri": "https://localhost:8080/",
          "height": 265
        },
        "id": "_nr_fOfymwxG",
        "outputId": "431a5f05-d70e-4895-c6cc-de7802728bb3"
      },
      "source": [
        "# 훈련 손실('binary_crossentropy'), 검증 손실('val_binary_crossentropy')\n",
        "plt.plot(baseline_history.history['binary_crossentropy'], color='blue', label='Baseline Train')\n",
        "plt.plot(baseline_history.history['val_binary_crossentropy'], color='red', label='Baseline Val')\n",
        "plt.legend()\n",
        "plt.show()"
      ],
      "execution_count": 32,
      "outputs": [
        {
          "output_type": "display_data",
          "data": {
            "image/png": "[encoded data removed]",
            "text/plain": [
              "<Figure size 432x288 with 1 Axes>"
            ]
          },
          "metadata": {
            "needs_background": "light"
          }
        }
      ]
    },
    {
      "cell_type": "code",
      "metadata": {
        "colab": {
          "base_uri": "https://localhost:8080/"
        },
        "id": "xzgORTnMpIH7",
        "outputId": "d7b3c932-722c-42cf-dddb-0c34414c2ea7"
      },
      "source": [
        "smaller_model = keras.Sequential([\n",
        "    keras.layers.Dense(4, activation='relu', input_shape=(NUM_WORDS,)),\n",
        "    keras.layers.Dense(4, activation='relu'),\n",
        "    keras.layers.Dense(1, activation='sigmoid')                                 \n",
        "])\n",
        "\n",
        "smaller_model.compile(optimizer='adam',\n",
        "                      loss='binary_crossentropy',\n",
        "                      metrics=['accuracy', 'binary_crossentropy'])\n",
        "\n",
        "smaller_model.summary()"
      ],
      "execution_count": 25,
      "outputs": [
        {
          "output_type": "stream",
          "name": "stdout",
          "text": [
            "Model: \"sequential_1\"\n",
            "_________________________________________________________________\n",
            "Layer (type)                 Output Shape              Param #   \n",
            "=================================================================\n",
            "dense_3 (Dense)              (None, 4)                 4004      \n",
            "_________________________________________________________________\n",
            "dense_4 (Dense)              (None, 4)                 20        \n",
            "_________________________________________________________________\n",
            "dense_5 (Dense)              (None, 1)                 5         \n",
            "=================================================================\n",
            "Total params: 4,029\n",
            "Trainable params: 4,029\n",
            "Non-trainable params: 0\n",
            "_________________________________________________________________\n"
          ]
        }
      ]
    },
    {
      "cell_type": "code",
      "metadata": {
        "colab": {
          "base_uri": "https://localhost:8080/"
        },
        "id": "-WBlpmkzp40p",
        "outputId": "315e90df-ae63-4293-cdc9-dab6cd502d12"
      },
      "source": [
        "smaller_history = smaller_model.fit(train_data,\n",
        "                                    train_labels,\n",
        "                                    epochs=20,\n",
        "                                    batch_size=512,\n",
        "                                    validation_data=(test_data, test_labels),\n",
        "                                    verbose=2)"
      ],
      "execution_count": 26,
      "outputs": [
        {
          "output_type": "stream",
          "name": "stdout",
          "text": [
            "Epoch 1/20\n",
            "49/49 - 1s - loss: 0.6663 - accuracy: 0.5573 - binary_crossentropy: 0.6663 - val_loss: 0.6296 - val_accuracy: 0.6114 - val_binary_crossentropy: 0.6296\n",
            "Epoch 2/20\n",
            "49/49 - 0s - loss: 0.5899 - accuracy: 0.6864 - binary_crossentropy: 0.5899 - val_loss: 0.5565 - val_accuracy: 0.7310 - val_binary_crossentropy: 0.5565\n",
            "Epoch 3/20\n",
            "49/49 - 0s - loss: 0.5235 - accuracy: 0.7962 - binary_crossentropy: 0.5235 - val_loss: 0.5074 - val_accuracy: 0.8303 - val_binary_crossentropy: 0.5074\n",
            "Epoch 4/20\n",
            "49/49 - 0s - loss: 0.4856 - accuracy: 0.8407 - binary_crossentropy: 0.4856 - val_loss: 0.4814 - val_accuracy: 0.8352 - val_binary_crossentropy: 0.4814\n",
            "Epoch 5/20\n",
            "49/49 - 0s - loss: 0.4627 - accuracy: 0.8578 - binary_crossentropy: 0.4627 - val_loss: 0.4636 - val_accuracy: 0.8498 - val_binary_crossentropy: 0.4636\n",
            "Epoch 6/20\n",
            "49/49 - 0s - loss: 0.4289 - accuracy: 0.8656 - binary_crossentropy: 0.4289 - val_loss: 0.4056 - val_accuracy: 0.8548 - val_binary_crossentropy: 0.4056\n",
            "Epoch 7/20\n",
            "49/49 - 0s - loss: 0.3606 - accuracy: 0.8729 - binary_crossentropy: 0.3606 - val_loss: 0.3520 - val_accuracy: 0.8592 - val_binary_crossentropy: 0.3520\n",
            "Epoch 8/20\n",
            "49/49 - 0s - loss: 0.3230 - accuracy: 0.8740 - binary_crossentropy: 0.3230 - val_loss: 0.3375 - val_accuracy: 0.8576 - val_binary_crossentropy: 0.3375\n",
            "Epoch 9/20\n",
            "49/49 - 0s - loss: 0.3105 - accuracy: 0.8743 - binary_crossentropy: 0.3105 - val_loss: 0.3309 - val_accuracy: 0.8603 - val_binary_crossentropy: 0.3309\n",
            "Epoch 10/20\n",
            "49/49 - 0s - loss: 0.3054 - accuracy: 0.8767 - binary_crossentropy: 0.3054 - val_loss: 0.3296 - val_accuracy: 0.8594 - val_binary_crossentropy: 0.3296\n",
            "Epoch 11/20\n",
            "49/49 - 0s - loss: 0.3013 - accuracy: 0.8775 - binary_crossentropy: 0.3013 - val_loss: 0.3289 - val_accuracy: 0.8590 - val_binary_crossentropy: 0.3289\n",
            "Epoch 12/20\n",
            "49/49 - 0s - loss: 0.2994 - accuracy: 0.8775 - binary_crossentropy: 0.2994 - val_loss: 0.3301 - val_accuracy: 0.8587 - val_binary_crossentropy: 0.3301\n",
            "Epoch 13/20\n",
            "49/49 - 0s - loss: 0.2980 - accuracy: 0.8788 - binary_crossentropy: 0.2980 - val_loss: 0.3283 - val_accuracy: 0.8602 - val_binary_crossentropy: 0.3283\n",
            "Epoch 14/20\n",
            "49/49 - 0s - loss: 0.2960 - accuracy: 0.8802 - binary_crossentropy: 0.2960 - val_loss: 0.3293 - val_accuracy: 0.8588 - val_binary_crossentropy: 0.3293\n",
            "Epoch 15/20\n",
            "49/49 - 0s - loss: 0.2952 - accuracy: 0.8795 - binary_crossentropy: 0.2952 - val_loss: 0.3284 - val_accuracy: 0.8598 - val_binary_crossentropy: 0.3284\n",
            "Epoch 16/20\n",
            "49/49 - 0s - loss: 0.2948 - accuracy: 0.8796 - binary_crossentropy: 0.2948 - val_loss: 0.3288 - val_accuracy: 0.8592 - val_binary_crossentropy: 0.3288\n",
            "Epoch 17/20\n",
            "49/49 - 0s - loss: 0.2955 - accuracy: 0.8791 - binary_crossentropy: 0.2955 - val_loss: 0.3300 - val_accuracy: 0.8586 - val_binary_crossentropy: 0.3300\n",
            "Epoch 18/20\n",
            "49/49 - 0s - loss: 0.2927 - accuracy: 0.8804 - binary_crossentropy: 0.2927 - val_loss: 0.3314 - val_accuracy: 0.8576 - val_binary_crossentropy: 0.3314\n",
            "Epoch 19/20\n",
            "49/49 - 0s - loss: 0.2934 - accuracy: 0.8801 - binary_crossentropy: 0.2934 - val_loss: 0.3289 - val_accuracy: 0.8591 - val_binary_crossentropy: 0.3289\n",
            "Epoch 20/20\n",
            "49/49 - 0s - loss: 0.2925 - accuracy: 0.8804 - binary_crossentropy: 0.2925 - val_loss: 0.3292 - val_accuracy: 0.8597 - val_binary_crossentropy: 0.3292\n"
          ]
        }
      ]
    },
    {
      "cell_type": "code",
      "metadata": {
        "colab": {
          "base_uri": "https://localhost:8080/",
          "height": 265
        },
        "id": "cq_3vYNuqbHT",
        "outputId": "a1986efb-15ab-42b3-e4fc-e1d35526413e"
      },
      "source": [
        "# 훈련 손실('binary_crossentropy'), 검증 손실('val_binary_crossentropy')\n",
        "plt.plot(smaller_history.history['binary_crossentropy'], color='blue', label='Baseline Train')\n",
        "plt.plot(smaller_history.history['val_binary_crossentropy'], color='red', label='Baseline Val')\n",
        "plt.legend()\n",
        "plt.show()"
      ],
      "execution_count": 33,
      "outputs": [
        {
          "output_type": "display_data",
          "data": {
            "image/png": "[encoded data removed]",
            "text/plain": [
              "<Figure size 432x288 with 1 Axes>"
            ]
          },
          "metadata": {
            "needs_background": "light"
          }
        }
      ]
    },
    {
      "cell_type": "code",
      "metadata": {
        "colab": {
          "base_uri": "https://localhost:8080/"
        },
        "id": "9ChHXfEgrA7c",
        "outputId": "e2c69369-554d-4be2-965a-6ba896a238c6"
      },
      "source": [
        "bigger_model = keras.models.Sequential([\n",
        "    keras.layers.Dense(512, activation='relu', input_shape=(NUM_WORDS,)),\n",
        "    keras.layers.Dense(512, activation='relu'),\n",
        "    keras.layers.Dense(1, activation='sigmoid')\n",
        "])\n",
        "\n",
        "bigger_model.compile(optimizer='adam',\n",
        "                     loss='binary_crossentropy',\n",
        "                     metrics=['accuracy', 'binary_crossentropy'])\n",
        "\n",
        "bigger_model.summary()"
      ],
      "execution_count": 28,
      "outputs": [
        {
          "output_type": "stream",
          "name": "stdout",
          "text": [
            "Model: \"sequential_2\"\n",
            "_________________________________________________________________\n",
            "Layer (type)                 Output Shape              Param #   \n",
            "=================================================================\n",
            "dense_6 (Dense)              (None, 512)               512512    \n",
            "_________________________________________________________________\n",
            "dense_7 (Dense)              (None, 512)               262656    \n",
            "_________________________________________________________________\n",
            "dense_8 (Dense)              (None, 1)                 513       \n",
            "=================================================================\n",
            "Total params: 775,681\n",
            "Trainable params: 775,681\n",
            "Non-trainable params: 0\n",
            "_________________________________________________________________\n"
          ]
        }
      ]
    },
    {
      "cell_type": "code",
      "metadata": {
        "colab": {
          "base_uri": "https://localhost:8080/"
        },
        "id": "d7-FGxPurxjT",
        "outputId": "a30e3fe1-4b81-4d67-e19a-08d9608e0a17"
      },
      "source": [
        "bigger_history = bigger_model.fit(train_data,\n",
        "                                  train_labels,\n",
        "                                  epochs=20,\n",
        "                                  batch_size=512,\n",
        "                                  validation_data=(test_data, test_labels),\n",
        "                                  verbose=2)"
      ],
      "execution_count": 29,
      "outputs": [
        {
          "output_type": "stream",
          "name": "stdout",
          "text": [
            "Epoch 1/20\n",
            "49/49 - 1s - loss: 0.4360 - accuracy: 0.7937 - binary_crossentropy: 0.4360 - val_loss: 0.3365 - val_accuracy: 0.8559 - val_binary_crossentropy: 0.3365\n",
            "Epoch 2/20\n",
            "49/49 - 0s - loss: 0.2924 - accuracy: 0.8782 - binary_crossentropy: 0.2924 - val_loss: 0.3316 - val_accuracy: 0.8559 - val_binary_crossentropy: 0.3316\n",
            "Epoch 3/20\n",
            "49/49 - 0s - loss: 0.2257 - accuracy: 0.9098 - binary_crossentropy: 0.2257 - val_loss: 0.3366 - val_accuracy: 0.8581 - val_binary_crossentropy: 0.3366\n",
            "Epoch 4/20\n",
            "49/49 - 0s - loss: 0.1172 - accuracy: 0.9632 - binary_crossentropy: 0.1172 - val_loss: 0.4203 - val_accuracy: 0.8466 - val_binary_crossentropy: 0.4203\n",
            "Epoch 5/20\n",
            "49/49 - 0s - loss: 0.0289 - accuracy: 0.9947 - binary_crossentropy: 0.0289 - val_loss: 0.5158 - val_accuracy: 0.8466 - val_binary_crossentropy: 0.5158\n",
            "Epoch 6/20\n",
            "49/49 - 0s - loss: 0.0065 - accuracy: 0.9996 - binary_crossentropy: 0.0065 - val_loss: 0.5953 - val_accuracy: 0.8515 - val_binary_crossentropy: 0.5953\n",
            "Epoch 7/20\n",
            "49/49 - 0s - loss: 0.0016 - accuracy: 0.9999 - binary_crossentropy: 0.0016 - val_loss: 0.6435 - val_accuracy: 0.8517 - val_binary_crossentropy: 0.6435\n",
            "Epoch 8/20\n",
            "49/49 - 0s - loss: 7.9809e-04 - accuracy: 1.0000 - binary_crossentropy: 7.9809e-04 - val_loss: 0.6787 - val_accuracy: 0.8523 - val_binary_crossentropy: 0.6787\n",
            "Epoch 9/20\n",
            "49/49 - 0s - loss: 5.2101e-04 - accuracy: 1.0000 - binary_crossentropy: 5.2101e-04 - val_loss: 0.7019 - val_accuracy: 0.8527 - val_binary_crossentropy: 0.7019\n",
            "Epoch 10/20\n",
            "49/49 - 0s - loss: 3.9155e-04 - accuracy: 1.0000 - binary_crossentropy: 3.9155e-04 - val_loss: 0.7195 - val_accuracy: 0.8524 - val_binary_crossentropy: 0.7195\n",
            "Epoch 11/20\n",
            "49/49 - 0s - loss: 3.0882e-04 - accuracy: 1.0000 - binary_crossentropy: 3.0882e-04 - val_loss: 0.7361 - val_accuracy: 0.8529 - val_binary_crossentropy: 0.7361\n",
            "Epoch 12/20\n",
            "49/49 - 0s - loss: 2.5154e-04 - accuracy: 1.0000 - binary_crossentropy: 2.5154e-04 - val_loss: 0.7508 - val_accuracy: 0.8529 - val_binary_crossentropy: 0.7508\n",
            "Epoch 13/20\n",
            "49/49 - 1s - loss: 2.0795e-04 - accuracy: 1.0000 - binary_crossentropy: 2.0795e-04 - val_loss: 0.7625 - val_accuracy: 0.8531 - val_binary_crossentropy: 0.7625\n",
            "Epoch 14/20\n",
            "49/49 - 0s - loss: 1.7531e-04 - accuracy: 1.0000 - binary_crossentropy: 1.7531e-04 - val_loss: 0.7747 - val_accuracy: 0.8531 - val_binary_crossentropy: 0.7747\n",
            "Epoch 15/20\n",
            "49/49 - 1s - loss: 1.4968e-04 - accuracy: 1.0000 - binary_crossentropy: 1.4968e-04 - val_loss: 0.7856 - val_accuracy: 0.8534 - val_binary_crossentropy: 0.7856\n",
            "Epoch 16/20\n",
            "49/49 - 0s - loss: 1.2920e-04 - accuracy: 1.0000 - binary_crossentropy: 1.2920e-04 - val_loss: 0.7957 - val_accuracy: 0.8532 - val_binary_crossentropy: 0.7957\n",
            "Epoch 17/20\n",
            "49/49 - 0s - loss: 1.1255e-04 - accuracy: 1.0000 - binary_crossentropy: 1.1255e-04 - val_loss: 0.8055 - val_accuracy: 0.8536 - val_binary_crossentropy: 0.8055\n",
            "Epoch 18/20\n",
            "49/49 - 0s - loss: 9.8803e-05 - accuracy: 1.0000 - binary_crossentropy: 9.8803e-05 - val_loss: 0.8152 - val_accuracy: 0.8538 - val_binary_crossentropy: 0.8152\n",
            "Epoch 19/20\n",
            "49/49 - 0s - loss: 8.7361e-05 - accuracy: 1.0000 - binary_crossentropy: 8.7361e-05 - val_loss: 0.8235 - val_accuracy: 0.8537 - val_binary_crossentropy: 0.8235\n",
            "Epoch 20/20\n",
            "49/49 - 0s - loss: 7.7746e-05 - accuracy: 1.0000 - binary_crossentropy: 7.7746e-05 - val_loss: 0.8316 - val_accuracy: 0.8534 - val_binary_crossentropy: 0.8316\n"
          ]
        }
      ]
    },
    {
      "cell_type": "code",
      "metadata": {
        "colab": {
          "base_uri": "https://localhost:8080/",
          "height": 265
        },
        "id": "thURKOVisG6P",
        "outputId": "8e85ffe3-b517-48de-ef57-26cacf8c33d6"
      },
      "source": [
        "# 훈련 손실('binary_crossentropy'), 검증 손실('val_binary_crossentropy')\n",
        "plt.plot(bigger_history.history['binary_crossentropy'], color='blue', label='Baseline Train')\n",
        "plt.plot(bigger_history.history['val_binary_crossentropy'], color='red', label='Baseline Val')\n",
        "plt.legend()\n",
        "plt.show()"
      ],
      "execution_count": 34,
      "outputs": [
        {
          "output_type": "display_data",
          "data": {
            "image/png": "[encoded data removed]",
            "text/plain": [
              "<Figure size 432x288 with 1 Axes>"
            ]
          },
          "metadata": {
            "needs_background": "light"
          }
        }
      ]
    },
    {
      "cell_type": "code",
      "metadata": {
        "colab": {
          "base_uri": "https://localhost:8080/"
        },
        "id": "2oNPENFbv55u",
        "outputId": "019cf8be-f690-4b88-9a15-2c5f85806144"
      },
      "source": [
        "l2_model = keras.models.Sequential([\n",
        "    keras.layers.Dense(16, kernel_regularizer=keras.regularizers.l2(0.001),\n",
        "                       activation='relu', input_shape=(NUM_WORDS,)),\n",
        "    keras.layers.Dense(16, kernel_regularizer=keras.regularizers.l2(0.001),\n",
        "                       activation='relu'),\n",
        "    keras.layers.Dense(1, activation='sigmoid')\n",
        "])\n",
        "\n",
        "l2_model.compile(optimizer='adam',\n",
        "                 loss='binary_crossentropy',\n",
        "                 metrics=['accuracy', 'binary_crossentropy'])\n",
        "\n",
        "l2_model_history = l2_model.fit(train_data,\n",
        "                                train_labels,\n",
        "                                epochs=20,\n",
        "                                batch_size=512,\n",
        "                                validation_data=(test_data, test_labels),\n",
        "                                verbose=2)"
      ],
      "execution_count": 38,
      "outputs": [
        {
          "output_type": "stream",
          "name": "stdout",
          "text": [
            "Epoch 1/20\n",
            "49/49 - 1s - loss: 0.6135 - accuracy: 0.7192 - binary_crossentropy: 0.5687 - val_loss: 0.4593 - val_accuracy: 0.8276 - val_binary_crossentropy: 0.4157\n",
            "Epoch 2/20\n",
            "49/49 - 0s - loss: 0.4038 - accuracy: 0.8526 - binary_crossentropy: 0.3599 - val_loss: 0.3826 - val_accuracy: 0.8559 - val_binary_crossentropy: 0.3390\n",
            "Epoch 3/20\n",
            "49/49 - 0s - loss: 0.3615 - accuracy: 0.8697 - binary_crossentropy: 0.3187 - val_loss: 0.3716 - val_accuracy: 0.8598 - val_binary_crossentropy: 0.3297\n",
            "Epoch 4/20\n",
            "49/49 - 0s - loss: 0.3497 - accuracy: 0.8721 - binary_crossentropy: 0.3087 - val_loss: 0.3682 - val_accuracy: 0.8600 - val_binary_crossentropy: 0.3282\n",
            "Epoch 5/20\n",
            "49/49 - 0s - loss: 0.3437 - accuracy: 0.8748 - binary_crossentropy: 0.3046 - val_loss: 0.3660 - val_accuracy: 0.8599 - val_binary_crossentropy: 0.3279\n",
            "Epoch 6/20\n",
            "49/49 - 0s - loss: 0.3413 - accuracy: 0.8756 - binary_crossentropy: 0.3039 - val_loss: 0.3637 - val_accuracy: 0.8601 - val_binary_crossentropy: 0.3272\n",
            "Epoch 7/20\n",
            "49/49 - 0s - loss: 0.3399 - accuracy: 0.8729 - binary_crossentropy: 0.3040 - val_loss: 0.3694 - val_accuracy: 0.8576 - val_binary_crossentropy: 0.3341\n",
            "Epoch 8/20\n",
            "49/49 - 0s - loss: 0.3351 - accuracy: 0.8746 - binary_crossentropy: 0.3004 - val_loss: 0.3607 - val_accuracy: 0.8605 - val_binary_crossentropy: 0.3266\n",
            "Epoch 9/20\n",
            "49/49 - 0s - loss: 0.3319 - accuracy: 0.8761 - binary_crossentropy: 0.2983 - val_loss: 0.3591 - val_accuracy: 0.8612 - val_binary_crossentropy: 0.3260\n",
            "Epoch 10/20\n",
            "49/49 - 0s - loss: 0.3300 - accuracy: 0.8752 - binary_crossentropy: 0.2973 - val_loss: 0.3575 - val_accuracy: 0.8600 - val_binary_crossentropy: 0.3253\n",
            "Epoch 11/20\n",
            "49/49 - 0s - loss: 0.3270 - accuracy: 0.8786 - binary_crossentropy: 0.2951 - val_loss: 0.3550 - val_accuracy: 0.8607 - val_binary_crossentropy: 0.3234\n",
            "Epoch 12/20\n",
            "49/49 - 0s - loss: 0.3240 - accuracy: 0.8794 - binary_crossentropy: 0.2928 - val_loss: 0.3543 - val_accuracy: 0.8602 - val_binary_crossentropy: 0.3234\n",
            "Epoch 13/20\n",
            "49/49 - 0s - loss: 0.3211 - accuracy: 0.8780 - binary_crossentropy: 0.2905 - val_loss: 0.3532 - val_accuracy: 0.8608 - val_binary_crossentropy: 0.3228\n",
            "Epoch 14/20\n",
            "49/49 - 0s - loss: 0.3194 - accuracy: 0.8796 - binary_crossentropy: 0.2891 - val_loss: 0.3529 - val_accuracy: 0.8609 - val_binary_crossentropy: 0.3229\n",
            "Epoch 15/20\n",
            "49/49 - 0s - loss: 0.3189 - accuracy: 0.8788 - binary_crossentropy: 0.2890 - val_loss: 0.3572 - val_accuracy: 0.8570 - val_binary_crossentropy: 0.3274\n",
            "Epoch 16/20\n",
            "49/49 - 0s - loss: 0.3152 - accuracy: 0.8793 - binary_crossentropy: 0.2855 - val_loss: 0.3533 - val_accuracy: 0.8614 - val_binary_crossentropy: 0.3237\n",
            "Epoch 17/20\n",
            "49/49 - 0s - loss: 0.3113 - accuracy: 0.8811 - binary_crossentropy: 0.2817 - val_loss: 0.3535 - val_accuracy: 0.8590 - val_binary_crossentropy: 0.3240\n",
            "Epoch 18/20\n",
            "49/49 - 0s - loss: 0.3085 - accuracy: 0.8837 - binary_crossentropy: 0.2791 - val_loss: 0.3513 - val_accuracy: 0.8612 - val_binary_crossentropy: 0.3219\n",
            "Epoch 19/20\n",
            "49/49 - 0s - loss: 0.3050 - accuracy: 0.8848 - binary_crossentropy: 0.2756 - val_loss: 0.3520 - val_accuracy: 0.8609 - val_binary_crossentropy: 0.3227\n",
            "Epoch 20/20\n",
            "49/49 - 0s - loss: 0.3033 - accuracy: 0.8847 - binary_crossentropy: 0.2739 - val_loss: 0.3519 - val_accuracy: 0.8614 - val_binary_crossentropy: 0.3224\n"
          ]
        }
      ]
    },
    {
      "cell_type": "code",
      "metadata": {
        "colab": {
          "base_uri": "https://localhost:8080/",
          "height": 265
        },
        "id": "IYzRWM-BxfGX",
        "outputId": "a9d10b39-1f89-4a17-9b07-111c8318e413"
      },
      "source": [
        "plt.plot(baseline_history.history['val_binary_crossentropy'], color='blue', label='Baseline Val')\n",
        "plt.plot(l2_model_history.history['val_binary_crossentropy'], color='red', label='l2_model Val')\n",
        "plt.legend()\n",
        "plt.show()"
      ],
      "execution_count": 41,
      "outputs": [
        {
          "output_type": "display_data",
          "data": {
            "image/png": "[encoded data removed]",
            "text/plain": [
              "<Figure size 432x288 with 1 Axes>"
            ]
          },
          "metadata": {
            "needs_background": "light"
          }
        }
      ]
    },
    {
      "cell_type": "code",
      "metadata": {
        "colab": {
          "base_uri": "https://localhost:8080/"
        },
        "id": "ooznUiZKy3ay",
        "outputId": "630cb48a-0335-4226-bc19-106c7bb9510d"
      },
      "source": [
        "dpt_model = keras.models.Sequential([\n",
        "    keras.layers.Dense(16, activation='relu', input_shape=(NUM_WORDS,)),\n",
        "    keras.layers.Dropout(0.5),\n",
        "    keras.layers.Dense(16, activation='relu'),\n",
        "    keras.layers.Dropout(0.5),\n",
        "    keras.layers.Dense(1, activation='sigmoid')\n",
        "])\n",
        "\n",
        "dpt_model.compile(optimizer='adam',\n",
        "                  loss='binary_crossentropy',\n",
        "                  metrics=['accuracy','binary_crossentropy'])\n",
        "\n",
        "dpt_model_history = dpt_model.fit(train_data, train_labels,\n",
        "                                  epochs=20,\n",
        "                                  batch_size=512,\n",
        "                                  validation_data=(test_data, test_labels),\n",
        "                                  verbose=2)"
      ],
      "execution_count": 42,
      "outputs": [
        {
          "output_type": "stream",
          "name": "stdout",
          "text": [
            "Epoch 1/20\n",
            "49/49 - 1s - loss: 0.6825 - accuracy: 0.5511 - binary_crossentropy: 0.6825 - val_loss: 0.6318 - val_accuracy: 0.7320 - val_binary_crossentropy: 0.6318\n",
            "Epoch 2/20\n",
            "49/49 - 1s - loss: 0.5891 - accuracy: 0.6820 - binary_crossentropy: 0.5891 - val_loss: 0.4771 - val_accuracy: 0.8206 - val_binary_crossentropy: 0.4771\n",
            "Epoch 3/20\n",
            "49/49 - 0s - loss: 0.4875 - accuracy: 0.7721 - binary_crossentropy: 0.4875 - val_loss: 0.3831 - val_accuracy: 0.8449 - val_binary_crossentropy: 0.3831\n",
            "Epoch 4/20\n",
            "49/49 - 0s - loss: 0.4330 - accuracy: 0.8089 - binary_crossentropy: 0.4330 - val_loss: 0.3518 - val_accuracy: 0.8541 - val_binary_crossentropy: 0.3518\n",
            "Epoch 5/20\n",
            "49/49 - 0s - loss: 0.4007 - accuracy: 0.8293 - binary_crossentropy: 0.4007 - val_loss: 0.3359 - val_accuracy: 0.8568 - val_binary_crossentropy: 0.3359\n",
            "Epoch 6/20\n",
            "49/49 - 0s - loss: 0.3834 - accuracy: 0.8390 - binary_crossentropy: 0.3834 - val_loss: 0.3310 - val_accuracy: 0.8575 - val_binary_crossentropy: 0.3310\n",
            "Epoch 7/20\n",
            "49/49 - 0s - loss: 0.3703 - accuracy: 0.8477 - binary_crossentropy: 0.3703 - val_loss: 0.3246 - val_accuracy: 0.8594 - val_binary_crossentropy: 0.3246\n",
            "Epoch 8/20\n",
            "49/49 - 0s - loss: 0.3546 - accuracy: 0.8535 - binary_crossentropy: 0.3546 - val_loss: 0.3230 - val_accuracy: 0.8588 - val_binary_crossentropy: 0.3230\n",
            "Epoch 9/20\n",
            "49/49 - 0s - loss: 0.3442 - accuracy: 0.8619 - binary_crossentropy: 0.3442 - val_loss: 0.3226 - val_accuracy: 0.8586 - val_binary_crossentropy: 0.3226\n",
            "Epoch 10/20\n",
            "49/49 - 0s - loss: 0.3372 - accuracy: 0.8602 - binary_crossentropy: 0.3372 - val_loss: 0.3222 - val_accuracy: 0.8589 - val_binary_crossentropy: 0.3222\n",
            "Epoch 11/20\n",
            "49/49 - 0s - loss: 0.3329 - accuracy: 0.8642 - binary_crossentropy: 0.3329 - val_loss: 0.3226 - val_accuracy: 0.8579 - val_binary_crossentropy: 0.3226\n",
            "Epoch 12/20\n",
            "49/49 - 0s - loss: 0.3240 - accuracy: 0.8706 - binary_crossentropy: 0.3240 - val_loss: 0.3245 - val_accuracy: 0.8572 - val_binary_crossentropy: 0.3245\n",
            "Epoch 13/20\n",
            "49/49 - 0s - loss: 0.3174 - accuracy: 0.8674 - binary_crossentropy: 0.3174 - val_loss: 0.3243 - val_accuracy: 0.8585 - val_binary_crossentropy: 0.3243\n",
            "Epoch 14/20\n",
            "49/49 - 0s - loss: 0.3164 - accuracy: 0.8723 - binary_crossentropy: 0.3164 - val_loss: 0.3275 - val_accuracy: 0.8580 - val_binary_crossentropy: 0.3275\n",
            "Epoch 15/20\n",
            "49/49 - 0s - loss: 0.3111 - accuracy: 0.8746 - binary_crossentropy: 0.3111 - val_loss: 0.3307 - val_accuracy: 0.8570 - val_binary_crossentropy: 0.3307\n",
            "Epoch 16/20\n",
            "49/49 - 0s - loss: 0.3076 - accuracy: 0.8760 - binary_crossentropy: 0.3076 - val_loss: 0.3329 - val_accuracy: 0.8570 - val_binary_crossentropy: 0.3329\n",
            "Epoch 17/20\n",
            "49/49 - 0s - loss: 0.3095 - accuracy: 0.8776 - binary_crossentropy: 0.3095 - val_loss: 0.3322 - val_accuracy: 0.8564 - val_binary_crossentropy: 0.3322\n",
            "Epoch 18/20\n",
            "49/49 - 0s - loss: 0.2995 - accuracy: 0.8783 - binary_crossentropy: 0.2995 - val_loss: 0.3313 - val_accuracy: 0.8542 - val_binary_crossentropy: 0.3313\n",
            "Epoch 19/20\n",
            "49/49 - 0s - loss: 0.2915 - accuracy: 0.8836 - binary_crossentropy: 0.2915 - val_loss: 0.3412 - val_accuracy: 0.8561 - val_binary_crossentropy: 0.3412\n",
            "Epoch 20/20\n",
            "49/49 - 0s - loss: 0.2896 - accuracy: 0.8844 - binary_crossentropy: 0.2896 - val_loss: 0.3411 - val_accuracy: 0.8563 - val_binary_crossentropy: 0.3411\n"
          ]
        }
      ]
    },
    {
      "cell_type": "code",
      "metadata": {
        "colab": {
          "base_uri": "https://localhost:8080/",
          "height": 265
        },
        "id": "ASzk0fJYy9KQ",
        "outputId": "977362b7-43f9-4e18-c3c8-743aea5a3abb"
      },
      "source": [
        "plt.plot(baseline_history.history['val_binary_crossentropy'], color='blue', label='Baseline Val')\n",
        "plt.plot(dpt_model_history.history['val_binary_crossentropy'], color='red', label='dpt_model Val')\n",
        "plt.legend()\n",
        "plt.show()"
      ],
      "execution_count": 43,
      "outputs": [
        {
          "output_type": "display_data",
          "data": {
            "image/png": "[encoded data removed]",
            "text/plain": [
              "<Figure size 432x288 with 1 Axes>"
            ]
          },
          "metadata": {
            "needs_background": "light"
          }
        }
      ]
    }
  ]
}